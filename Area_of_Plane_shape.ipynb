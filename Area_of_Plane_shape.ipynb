{
  "nbformat": 4,
  "nbformat_minor": 0,
  "metadata": {
    "colab": {
      "name": "Area of Plane shape.ipynb",
      "provenance": [],
      "authorship_tag": "ABX9TyNfU4y882nv01XcAKqYOU/Q",
      "include_colab_link": true
    },
    "kernelspec": {
      "name": "python3",
      "display_name": "Python 3"
    }
  },
  "cells": [
    {
      "cell_type": "markdown",
      "metadata": {
        "id": "view-in-github",
        "colab_type": "text"
      },
      "source": [
        "<a href=\"https://colab.research.google.com/github/Shamaun-Nabi/-INFECTED-WEBSITE-created-with-Bootstrap/blob/master/Area_of_Plane_shape.ipynb\" target=\"_parent\"><img src=\"https://colab.research.google.com/assets/colab-badge.svg\" alt=\"Open In Colab\"/></a>"
      ]
    },
    {
      "cell_type": "code",
      "metadata": {
        "id": "b-ro3OC6N-s0"
      },
      "source": [
        ""
      ],
      "execution_count": null,
      "outputs": []
    },
    {
      "cell_type": "markdown",
      "metadata": {
        "id": "EOTejiecSFbE"
      },
      "source": [
        "Triangle Calculation :\r\n",
        "\r\n",
        "---\r\n",
        "\r\n"
      ]
    },
    {
      "cell_type": "code",
      "metadata": {
        "id": "m51QBlp5SKll"
      },
      "source": [
        "base=float(input(\"Enter Base : \"))\r\n",
        "height=float(input(\"Enter Height :\"))\r\n",
        "area=(1/2*base*height)\r\n",
        "print(\"Your result is : \",area)"
      ],
      "execution_count": null,
      "outputs": []
    },
    {
      "cell_type": "markdown",
      "metadata": {
        "id": "KIA7FaoWTrwJ"
      },
      "source": [
        "Square Calculation :"
      ]
    },
    {
      "cell_type": "code",
      "metadata": {
        "id": "mI0KHpsrTve-"
      },
      "source": [
        "area=float(input(\"Enter area \"))\r\n",
        "square=area*area\r\n",
        "print(\" Square result : \",square)"
      ],
      "execution_count": null,
      "outputs": []
    },
    {
      "cell_type": "markdown",
      "metadata": {
        "id": "LorgAXr3X9yB"
      },
      "source": [
        "Circle Calculation :"
      ]
    },
    {
      "cell_type": "code",
      "metadata": {
        "colab": {
          "base_uri": "https://localhost:8080/"
        },
        "id": "IQn-nhVuYB00",
        "outputId": "3dc7beed-6a1c-494e-d361-cbb4e2399d8c"
      },
      "source": [
        "radius= float(input(\"Enter Your Radius :\"))\r\n",
        "result= 3.1416*radius*radius\r\n",
        "print(\"Result is \",result);"
      ],
      "execution_count": 9,
      "outputs": [
        {
          "output_type": "stream",
          "text": [
            "Enter Your Radius :3\n",
            "Result is  28.2744\n"
          ],
          "name": "stdout"
        }
      ]
    }
  ]
}